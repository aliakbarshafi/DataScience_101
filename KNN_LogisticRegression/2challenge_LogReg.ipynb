{
 "cells": [
  {
   "cell_type": "markdown",
   "metadata": {},
   "source": [
    "# Challenge 2\n",
    "This notebok is for challenge 2: MNIST database with Logistic regression"
   ]
  },
  {
   "cell_type": "code",
   "execution_count": 1,
   "metadata": {},
   "outputs": [],
   "source": [
    "import pandas as pd\n",
    "import numpy as np\n",
    "from sklearn.linear_model import LogisticRegression\n",
    "from sklearn.metrics import accuracy_score\n",
    "import matplotlib.pyplot as plt\n",
    "import time \n",
    "from sklearn.decomposition import PCA\n",
    "from sklearn.model_selection import GridSearchCV\n",
    "from sklearn.pipeline import Pipeline"
   ]
  },
  {
   "cell_type": "markdown",
   "metadata": {},
   "source": [
    "## Importing dataset"
   ]
  },
  {
   "cell_type": "code",
   "execution_count": 2,
   "metadata": {},
   "outputs": [],
   "source": [
    "%matplotlib inline\n",
    "from sklearn.datasets import fetch_mldata\n",
    "\n",
    "# Change data_home to wherever to where you want to download your data\n",
    "#data_set = fetch_mldata('MNIST original')\n",
    "df_orig = pd.read_csv('mnist_train.csv')"
   ]
  },
  {
   "cell_type": "markdown",
   "metadata": {},
   "source": [
    "### Checking dataset properties"
   ]
  },
  {
   "cell_type": "markdown",
   "metadata": {},
   "source": [
    "#Print to show there are 1797 images (8 by 8 images for a dimensionality of 64)\n",
    "print(\"Image Data Shape\" , data_set.data.shape)\n",
    "\n",
    "#Print to show there are 1797 labels (integers from 0-9)\n",
    "print(\"Label Data Shape\", data_set.target.shape)"
   ]
  },
  {
   "cell_type": "code",
   "execution_count": 3,
   "metadata": {},
   "outputs": [
    {
     "name": "stdout",
     "output_type": "stream",
     "text": [
      "(60000, 786)\n"
     ]
    },
    {
     "data": {
      "text/html": [
       "<div>\n",
       "<style scoped>\n",
       "    .dataframe tbody tr th:only-of-type {\n",
       "        vertical-align: middle;\n",
       "    }\n",
       "\n",
       "    .dataframe tbody tr th {\n",
       "        vertical-align: top;\n",
       "    }\n",
       "\n",
       "    .dataframe thead th {\n",
       "        text-align: right;\n",
       "    }\n",
       "</style>\n",
       "<table border=\"1\" class=\"dataframe\">\n",
       "  <thead>\n",
       "    <tr style=\"text-align: right;\">\n",
       "      <th></th>\n",
       "      <th>Id</th>\n",
       "      <th>Category</th>\n",
       "      <th>pixel0</th>\n",
       "      <th>pixel1</th>\n",
       "      <th>pixel2</th>\n",
       "      <th>pixel3</th>\n",
       "      <th>pixel4</th>\n",
       "      <th>pixel5</th>\n",
       "      <th>pixel6</th>\n",
       "      <th>pixel7</th>\n",
       "      <th>...</th>\n",
       "      <th>pixel774</th>\n",
       "      <th>pixel775</th>\n",
       "      <th>pixel776</th>\n",
       "      <th>pixel777</th>\n",
       "      <th>pixel778</th>\n",
       "      <th>pixel779</th>\n",
       "      <th>pixel780</th>\n",
       "      <th>pixel781</th>\n",
       "      <th>pixel782</th>\n",
       "      <th>pixel783</th>\n",
       "    </tr>\n",
       "  </thead>\n",
       "  <tbody>\n",
       "    <tr>\n",
       "      <th>0</th>\n",
       "      <td>1</td>\n",
       "      <td>5</td>\n",
       "      <td>0</td>\n",
       "      <td>0</td>\n",
       "      <td>0</td>\n",
       "      <td>0</td>\n",
       "      <td>0</td>\n",
       "      <td>0</td>\n",
       "      <td>0</td>\n",
       "      <td>0</td>\n",
       "      <td>...</td>\n",
       "      <td>0</td>\n",
       "      <td>0</td>\n",
       "      <td>0</td>\n",
       "      <td>0</td>\n",
       "      <td>0</td>\n",
       "      <td>0</td>\n",
       "      <td>0</td>\n",
       "      <td>0</td>\n",
       "      <td>0</td>\n",
       "      <td>0</td>\n",
       "    </tr>\n",
       "    <tr>\n",
       "      <th>1</th>\n",
       "      <td>2</td>\n",
       "      <td>0</td>\n",
       "      <td>0</td>\n",
       "      <td>0</td>\n",
       "      <td>0</td>\n",
       "      <td>0</td>\n",
       "      <td>0</td>\n",
       "      <td>0</td>\n",
       "      <td>0</td>\n",
       "      <td>0</td>\n",
       "      <td>...</td>\n",
       "      <td>0</td>\n",
       "      <td>0</td>\n",
       "      <td>0</td>\n",
       "      <td>0</td>\n",
       "      <td>0</td>\n",
       "      <td>0</td>\n",
       "      <td>0</td>\n",
       "      <td>0</td>\n",
       "      <td>0</td>\n",
       "      <td>0</td>\n",
       "    </tr>\n",
       "    <tr>\n",
       "      <th>2</th>\n",
       "      <td>3</td>\n",
       "      <td>4</td>\n",
       "      <td>0</td>\n",
       "      <td>0</td>\n",
       "      <td>0</td>\n",
       "      <td>0</td>\n",
       "      <td>0</td>\n",
       "      <td>0</td>\n",
       "      <td>0</td>\n",
       "      <td>0</td>\n",
       "      <td>...</td>\n",
       "      <td>0</td>\n",
       "      <td>0</td>\n",
       "      <td>0</td>\n",
       "      <td>0</td>\n",
       "      <td>0</td>\n",
       "      <td>0</td>\n",
       "      <td>0</td>\n",
       "      <td>0</td>\n",
       "      <td>0</td>\n",
       "      <td>0</td>\n",
       "    </tr>\n",
       "    <tr>\n",
       "      <th>3</th>\n",
       "      <td>4</td>\n",
       "      <td>1</td>\n",
       "      <td>0</td>\n",
       "      <td>0</td>\n",
       "      <td>0</td>\n",
       "      <td>0</td>\n",
       "      <td>0</td>\n",
       "      <td>0</td>\n",
       "      <td>0</td>\n",
       "      <td>0</td>\n",
       "      <td>...</td>\n",
       "      <td>0</td>\n",
       "      <td>0</td>\n",
       "      <td>0</td>\n",
       "      <td>0</td>\n",
       "      <td>0</td>\n",
       "      <td>0</td>\n",
       "      <td>0</td>\n",
       "      <td>0</td>\n",
       "      <td>0</td>\n",
       "      <td>0</td>\n",
       "    </tr>\n",
       "    <tr>\n",
       "      <th>4</th>\n",
       "      <td>5</td>\n",
       "      <td>9</td>\n",
       "      <td>0</td>\n",
       "      <td>0</td>\n",
       "      <td>0</td>\n",
       "      <td>0</td>\n",
       "      <td>0</td>\n",
       "      <td>0</td>\n",
       "      <td>0</td>\n",
       "      <td>0</td>\n",
       "      <td>...</td>\n",
       "      <td>0</td>\n",
       "      <td>0</td>\n",
       "      <td>0</td>\n",
       "      <td>0</td>\n",
       "      <td>0</td>\n",
       "      <td>0</td>\n",
       "      <td>0</td>\n",
       "      <td>0</td>\n",
       "      <td>0</td>\n",
       "      <td>0</td>\n",
       "    </tr>\n",
       "  </tbody>\n",
       "</table>\n",
       "<p>5 rows × 786 columns</p>\n",
       "</div>"
      ],
      "text/plain": [
       "   Id  Category  pixel0  pixel1  pixel2  pixel3  pixel4  pixel5  pixel6  \\\n",
       "0   1         5       0       0       0       0       0       0       0   \n",
       "1   2         0       0       0       0       0       0       0       0   \n",
       "2   3         4       0       0       0       0       0       0       0   \n",
       "3   4         1       0       0       0       0       0       0       0   \n",
       "4   5         9       0       0       0       0       0       0       0   \n",
       "\n",
       "   pixel7    ...     pixel774  pixel775  pixel776  pixel777  pixel778  \\\n",
       "0       0    ...            0         0         0         0         0   \n",
       "1       0    ...            0         0         0         0         0   \n",
       "2       0    ...            0         0         0         0         0   \n",
       "3       0    ...            0         0         0         0         0   \n",
       "4       0    ...            0         0         0         0         0   \n",
       "\n",
       "   pixel779  pixel780  pixel781  pixel782  pixel783  \n",
       "0         0         0         0         0         0  \n",
       "1         0         0         0         0         0  \n",
       "2         0         0         0         0         0  \n",
       "3         0         0         0         0         0  \n",
       "4         0         0         0         0         0  \n",
       "\n",
       "[5 rows x 786 columns]"
      ]
     },
     "execution_count": 3,
     "metadata": {},
     "output_type": "execute_result"
    }
   ],
   "source": [
    "print(df_orig.shape)\n",
    "df_orig.head(5)"
   ]
  },
  {
   "cell_type": "code",
   "execution_count": 4,
   "metadata": {},
   "outputs": [
    {
     "name": "stdout",
     "output_type": "stream",
     "text": [
      "(60000, 719)\n"
     ]
    }
   ],
   "source": [
    "#df= df_orig\n",
    "df = df_orig.loc[:, (df_orig != 0).any(axis=0)]\n",
    "print(df.shape)"
   ]
  },
  {
   "cell_type": "markdown",
   "metadata": {},
   "source": [
    "#### Print training and testing data shape"
   ]
  },
  {
   "cell_type": "code",
   "execution_count": 5,
   "metadata": {},
   "outputs": [],
   "source": [
    "#Split train-test into 60k-10k\n",
    "from sklearn.model_selection import train_test_split\n",
    "\n",
    "\n",
    "#select columns for data/target\n",
    "#data = df.loc[:,df.columns!='Category']\n",
    "#target = df.loc[:,'Category']\n",
    "\n",
    "data = df.drop(['Id', 'Category'], axis=1)\n",
    "target = df['Category']\n",
    "\n",
    "X_train = data\n",
    "y_train = target\n",
    "\n",
    "#X=image, y=label\n",
    "#X_train, X_test, y_train, y_test = train_test_split(\n",
    "#    data, target, train_size=1.0, random_state=0)\n"
   ]
  },
  {
   "cell_type": "code",
   "execution_count": 6,
   "metadata": {},
   "outputs": [
    {
     "name": "stdout",
     "output_type": "stream",
     "text": [
      "(60000, 717)\n",
      "(60000,)\n"
     ]
    }
   ],
   "source": [
    "print(X_train.shape)\n",
    "print(y_train.shape)"
   ]
  },
  {
   "cell_type": "markdown",
   "metadata": {},
   "source": [
    "print(X_test.shape)\n",
    "#print(y_test.shape)"
   ]
  },
  {
   "cell_type": "code",
   "execution_count": 7,
   "metadata": {},
   "outputs": [],
   "source": [
    "pipe = Pipeline([\n",
    "    ('pca', PCA()),\n",
    "    ('clf', LogisticRegression())\n",
    "])"
   ]
  },
  {
   "cell_type": "code",
   "execution_count": 17,
   "metadata": {},
   "outputs": [],
   "source": [
    "param_grid = [\n",
    "    {\n",
    "        'pca__n_components': [5,10,20],\n",
    "        'clf__solver': ['lbfgs','liblinear', 'saga'],\n",
    "        'clf__C': [0.1, 1],\n",
    "        'clf__tol' : [0.0001, 0.01], \n",
    "        'clf__multi_class' : ['ovr']\n",
    "    }]"
   ]
  },
  {
   "cell_type": "code",
   "execution_count": 18,
   "metadata": {},
   "outputs": [],
   "source": [
    "grid = GridSearchCV(pipe, cv=3, n_jobs=1, param_grid=param_grid, verbose=5, scoring='accuracy')"
   ]
  },
  {
   "cell_type": "code",
   "execution_count": 19,
   "metadata": {},
   "outputs": [
    {
     "name": "stdout",
     "output_type": "stream",
     "text": [
      "Fitting 3 folds for each of 36 candidates, totalling 108 fits\n",
      "[CV] clf__C=0.1, clf__multi_class=ovr, clf__solver=lbfgs, clf__tol=0.0001, pca__n_components=5 \n",
      "[CV]  clf__C=0.1, clf__multi_class=ovr, clf__solver=lbfgs, clf__tol=0.0001, pca__n_components=5, score=0.6390221955608878, total=   3.5s\n",
      "[CV] clf__C=0.1, clf__multi_class=ovr, clf__solver=lbfgs, clf__tol=0.0001, pca__n_components=5 \n"
     ]
    },
    {
     "name": "stderr",
     "output_type": "stream",
     "text": [
      "[Parallel(n_jobs=1)]: Done   1 out of   1 | elapsed:    3.7s remaining:    0.0s\n"
     ]
    },
    {
     "name": "stdout",
     "output_type": "stream",
     "text": [
      "[CV]  clf__C=0.1, clf__multi_class=ovr, clf__solver=lbfgs, clf__tol=0.0001, pca__n_components=5, score=0.6432321616080804, total=   3.0s\n",
      "[CV] clf__C=0.1, clf__multi_class=ovr, clf__solver=lbfgs, clf__tol=0.0001, pca__n_components=5 \n"
     ]
    },
    {
     "name": "stderr",
     "output_type": "stream",
     "text": [
      "[Parallel(n_jobs=1)]: Done   2 out of   2 | elapsed:    7.0s remaining:    0.0s\n"
     ]
    },
    {
     "name": "stdout",
     "output_type": "stream",
     "text": [
      "[CV]  clf__C=0.1, clf__multi_class=ovr, clf__solver=lbfgs, clf__tol=0.0001, pca__n_components=5, score=0.6480472070810621, total=   2.8s\n",
      "[CV] clf__C=0.1, clf__multi_class=ovr, clf__solver=lbfgs, clf__tol=0.0001, pca__n_components=10 \n"
     ]
    },
    {
     "name": "stderr",
     "output_type": "stream",
     "text": [
      "[Parallel(n_jobs=1)]: Done   3 out of   3 | elapsed:   10.1s remaining:    0.0s\n"
     ]
    },
    {
     "name": "stdout",
     "output_type": "stream",
     "text": [
      "[CV]  clf__C=0.1, clf__multi_class=ovr, clf__solver=lbfgs, clf__tol=0.0001, pca__n_components=10, score=0.7743451309738052, total=   3.6s\n",
      "[CV] clf__C=0.1, clf__multi_class=ovr, clf__solver=lbfgs, clf__tol=0.0001, pca__n_components=10 \n"
     ]
    },
    {
     "name": "stderr",
     "output_type": "stream",
     "text": [
      "[Parallel(n_jobs=1)]: Done   4 out of   4 | elapsed:   14.0s remaining:    0.0s\n"
     ]
    },
    {
     "name": "stdout",
     "output_type": "stream",
     "text": [
      "[CV]  clf__C=0.1, clf__multi_class=ovr, clf__solver=lbfgs, clf__tol=0.0001, pca__n_components=10, score=0.7732886644332216, total=   3.6s\n",
      "[CV] clf__C=0.1, clf__multi_class=ovr, clf__solver=lbfgs, clf__tol=0.0001, pca__n_components=10 \n",
      "[CV]  clf__C=0.1, clf__multi_class=ovr, clf__solver=lbfgs, clf__tol=0.0001, pca__n_components=10, score=0.7829174376156424, total=   4.0s\n",
      "[CV] clf__C=0.1, clf__multi_class=ovr, clf__solver=lbfgs, clf__tol=0.0001, pca__n_components=20 \n",
      "[CV]  clf__C=0.1, clf__multi_class=ovr, clf__solver=lbfgs, clf__tol=0.0001, pca__n_components=20, score=0.8586782643471306, total=   4.1s\n",
      "[CV] clf__C=0.1, clf__multi_class=ovr, clf__solver=lbfgs, clf__tol=0.0001, pca__n_components=20 \n",
      "[CV]  clf__C=0.1, clf__multi_class=ovr, clf__solver=lbfgs, clf__tol=0.0001, pca__n_components=20, score=0.8553927696384819, total=   3.8s\n",
      "[CV] clf__C=0.1, clf__multi_class=ovr, clf__solver=lbfgs, clf__tol=0.0001, pca__n_components=20 \n",
      "[CV]  clf__C=0.1, clf__multi_class=ovr, clf__solver=lbfgs, clf__tol=0.0001, pca__n_components=20, score=0.8634295144271641, total=   3.8s\n",
      "[CV] clf__C=0.1, clf__multi_class=ovr, clf__solver=lbfgs, clf__tol=0.01, pca__n_components=5 \n",
      "[CV]  clf__C=0.1, clf__multi_class=ovr, clf__solver=lbfgs, clf__tol=0.01, pca__n_components=5, score=0.6390221955608878, total=   2.7s\n",
      "[CV] clf__C=0.1, clf__multi_class=ovr, clf__solver=lbfgs, clf__tol=0.01, pca__n_components=5 \n",
      "[CV]  clf__C=0.1, clf__multi_class=ovr, clf__solver=lbfgs, clf__tol=0.01, pca__n_components=5, score=0.6432321616080804, total=   2.7s\n",
      "[CV] clf__C=0.1, clf__multi_class=ovr, clf__solver=lbfgs, clf__tol=0.01, pca__n_components=5 \n",
      "[CV]  clf__C=0.1, clf__multi_class=ovr, clf__solver=lbfgs, clf__tol=0.01, pca__n_components=5, score=0.6480472070810621, total=   2.6s\n",
      "[CV] clf__C=0.1, clf__multi_class=ovr, clf__solver=lbfgs, clf__tol=0.01, pca__n_components=10 \n",
      "[CV]  clf__C=0.1, clf__multi_class=ovr, clf__solver=lbfgs, clf__tol=0.01, pca__n_components=10, score=0.7744451109778044, total=   3.0s\n",
      "[CV] clf__C=0.1, clf__multi_class=ovr, clf__solver=lbfgs, clf__tol=0.01, pca__n_components=10 \n",
      "[CV]  clf__C=0.1, clf__multi_class=ovr, clf__solver=lbfgs, clf__tol=0.01, pca__n_components=10, score=0.7732386619330966, total=   3.0s\n",
      "[CV] clf__C=0.1, clf__multi_class=ovr, clf__solver=lbfgs, clf__tol=0.01, pca__n_components=10 \n",
      "[CV]  clf__C=0.1, clf__multi_class=ovr, clf__solver=lbfgs, clf__tol=0.01, pca__n_components=10, score=0.7828674301145172, total=   3.0s\n",
      "[CV] clf__C=0.1, clf__multi_class=ovr, clf__solver=lbfgs, clf__tol=0.01, pca__n_components=20 \n",
      "[CV]  clf__C=0.1, clf__multi_class=ovr, clf__solver=lbfgs, clf__tol=0.01, pca__n_components=20, score=0.8588282343531294, total=   3.8s\n",
      "[CV] clf__C=0.1, clf__multi_class=ovr, clf__solver=lbfgs, clf__tol=0.01, pca__n_components=20 \n",
      "[CV]  clf__C=0.1, clf__multi_class=ovr, clf__solver=lbfgs, clf__tol=0.01, pca__n_components=20, score=0.8556427821391069, total=   3.8s\n",
      "[CV] clf__C=0.1, clf__multi_class=ovr, clf__solver=lbfgs, clf__tol=0.01, pca__n_components=20 \n",
      "[CV]  clf__C=0.1, clf__multi_class=ovr, clf__solver=lbfgs, clf__tol=0.01, pca__n_components=20, score=0.8640296044406661, total=   4.3s\n",
      "[CV] clf__C=0.1, clf__multi_class=ovr, clf__solver=liblinear, clf__tol=0.0001, pca__n_components=5 \n",
      "[CV]  clf__C=0.1, clf__multi_class=ovr, clf__solver=liblinear, clf__tol=0.0001, pca__n_components=5, score=0.6365226954609078, total=   6.5s\n",
      "[CV] clf__C=0.1, clf__multi_class=ovr, clf__solver=liblinear, clf__tol=0.0001, pca__n_components=5 \n",
      "[CV]  clf__C=0.1, clf__multi_class=ovr, clf__solver=liblinear, clf__tol=0.0001, pca__n_components=5, score=0.6413320666033302, total=   7.9s\n",
      "[CV] clf__C=0.1, clf__multi_class=ovr, clf__solver=liblinear, clf__tol=0.0001, pca__n_components=5 \n",
      "[CV]  clf__C=0.1, clf__multi_class=ovr, clf__solver=liblinear, clf__tol=0.0001, pca__n_components=5, score=0.6464969745461819, total=   6.8s\n",
      "[CV] clf__C=0.1, clf__multi_class=ovr, clf__solver=liblinear, clf__tol=0.0001, pca__n_components=10 \n",
      "[CV]  clf__C=0.1, clf__multi_class=ovr, clf__solver=liblinear, clf__tol=0.0001, pca__n_components=10, score=0.7710957808438312, total=  17.8s\n",
      "[CV] clf__C=0.1, clf__multi_class=ovr, clf__solver=liblinear, clf__tol=0.0001, pca__n_components=10 \n",
      "[CV]  clf__C=0.1, clf__multi_class=ovr, clf__solver=liblinear, clf__tol=0.0001, pca__n_components=10, score=0.7709885494274714, total=  20.2s\n",
      "[CV] clf__C=0.1, clf__multi_class=ovr, clf__solver=liblinear, clf__tol=0.0001, pca__n_components=10 \n",
      "[CV]  clf__C=0.1, clf__multi_class=ovr, clf__solver=liblinear, clf__tol=0.0001, pca__n_components=10, score=0.7809171375706356, total=  18.0s\n",
      "[CV] clf__C=0.1, clf__multi_class=ovr, clf__solver=liblinear, clf__tol=0.0001, pca__n_components=20 \n",
      "[CV]  clf__C=0.1, clf__multi_class=ovr, clf__solver=liblinear, clf__tol=0.0001, pca__n_components=20, score=0.8560287942411517, total=  45.4s\n",
      "[CV] clf__C=0.1, clf__multi_class=ovr, clf__solver=liblinear, clf__tol=0.0001, pca__n_components=20 \n",
      "[CV]  clf__C=0.1, clf__multi_class=ovr, clf__solver=liblinear, clf__tol=0.0001, pca__n_components=20, score=0.8523926196309816, total=  52.0s\n",
      "[CV] clf__C=0.1, clf__multi_class=ovr, clf__solver=liblinear, clf__tol=0.0001, pca__n_components=20 \n",
      "[CV]  clf__C=0.1, clf__multi_class=ovr, clf__solver=liblinear, clf__tol=0.0001, pca__n_components=20, score=0.8621293193979097, total=  51.8s\n",
      "[CV] clf__C=0.1, clf__multi_class=ovr, clf__solver=liblinear, clf__tol=0.01, pca__n_components=5 \n",
      "[CV]  clf__C=0.1, clf__multi_class=ovr, clf__solver=liblinear, clf__tol=0.01, pca__n_components=5, score=0.6114777044591082, total=   7.1s\n",
      "[CV] clf__C=0.1, clf__multi_class=ovr, clf__solver=liblinear, clf__tol=0.01, pca__n_components=5 \n",
      "[CV]  clf__C=0.1, clf__multi_class=ovr, clf__solver=liblinear, clf__tol=0.01, pca__n_components=5, score=0.6221811090554528, total=   7.8s\n",
      "[CV] clf__C=0.1, clf__multi_class=ovr, clf__solver=liblinear, clf__tol=0.01, pca__n_components=5 \n",
      "[CV]  clf__C=0.1, clf__multi_class=ovr, clf__solver=liblinear, clf__tol=0.01, pca__n_components=5, score=0.619242886432965, total=   6.3s\n",
      "[CV] clf__C=0.1, clf__multi_class=ovr, clf__solver=liblinear, clf__tol=0.01, pca__n_components=10 \n",
      "[CV]  clf__C=0.1, clf__multi_class=ovr, clf__solver=liblinear, clf__tol=0.01, pca__n_components=10, score=0.7565486902619476, total=  15.8s\n",
      "[CV] clf__C=0.1, clf__multi_class=ovr, clf__solver=liblinear, clf__tol=0.01, pca__n_components=10 \n",
      "[CV]  clf__C=0.1, clf__multi_class=ovr, clf__solver=liblinear, clf__tol=0.01, pca__n_components=10, score=0.7502375118755937, total=  18.1s\n",
      "[CV] clf__C=0.1, clf__multi_class=ovr, clf__solver=liblinear, clf__tol=0.01, pca__n_components=10 \n",
      "[CV]  clf__C=0.1, clf__multi_class=ovr, clf__solver=liblinear, clf__tol=0.01, pca__n_components=10, score=0.750212531879782, total=  16.2s\n",
      "[CV] clf__C=0.1, clf__multi_class=ovr, clf__solver=liblinear, clf__tol=0.01, pca__n_components=20 \n",
      "[CV]  clf__C=0.1, clf__multi_class=ovr, clf__solver=liblinear, clf__tol=0.01, pca__n_components=20, score=0.8325334933013397, total=  38.7s\n",
      "[CV] clf__C=0.1, clf__multi_class=ovr, clf__solver=liblinear, clf__tol=0.01, pca__n_components=20 \n",
      "[CV]  clf__C=0.1, clf__multi_class=ovr, clf__solver=liblinear, clf__tol=0.01, pca__n_components=20, score=0.8441922096104805, total=  38.7s\n",
      "[CV] clf__C=0.1, clf__multi_class=ovr, clf__solver=liblinear, clf__tol=0.01, pca__n_components=20 \n",
      "[CV]  clf__C=0.1, clf__multi_class=ovr, clf__solver=liblinear, clf__tol=0.01, pca__n_components=20, score=0.8559783967595139, total=  39.2s\n",
      "[CV] clf__C=0.1, clf__multi_class=ovr, clf__solver=saga, clf__tol=0.0001, pca__n_components=5 \n"
     ]
    },
    {
     "name": "stderr",
     "output_type": "stream",
     "text": [
      "/Users/Swati/anaconda3/lib/python3.6/site-packages/sklearn/linear_model/sag.py:326: ConvergenceWarning: The max_iter was reached which means the coef_ did not converge\n",
      "  \"the coef_ did not converge\", ConvergenceWarning)\n"
     ]
    },
    {
     "name": "stdout",
     "output_type": "stream",
     "text": [
      "[CV]  clf__C=0.1, clf__multi_class=ovr, clf__solver=saga, clf__tol=0.0001, pca__n_components=5, score=0.5496400719856028, total=  23.6s\n",
      "[CV] clf__C=0.1, clf__multi_class=ovr, clf__solver=saga, clf__tol=0.0001, pca__n_components=5 \n"
     ]
    },
    {
     "name": "stderr",
     "output_type": "stream",
     "text": [
      "/Users/Swati/anaconda3/lib/python3.6/site-packages/sklearn/linear_model/sag.py:326: ConvergenceWarning: The max_iter was reached which means the coef_ did not converge\n",
      "  \"the coef_ did not converge\", ConvergenceWarning)\n"
     ]
    },
    {
     "name": "stdout",
     "output_type": "stream",
     "text": [
      "[CV]  clf__C=0.1, clf__multi_class=ovr, clf__solver=saga, clf__tol=0.0001, pca__n_components=5, score=0.5536276813840691, total=  20.2s\n",
      "[CV] clf__C=0.1, clf__multi_class=ovr, clf__solver=saga, clf__tol=0.0001, pca__n_components=5 \n"
     ]
    },
    {
     "name": "stderr",
     "output_type": "stream",
     "text": [
      "/Users/Swati/anaconda3/lib/python3.6/site-packages/sklearn/linear_model/sag.py:326: ConvergenceWarning: The max_iter was reached which means the coef_ did not converge\n",
      "  \"the coef_ did not converge\", ConvergenceWarning)\n"
     ]
    },
    {
     "name": "stdout",
     "output_type": "stream",
     "text": [
      "[CV]  clf__C=0.1, clf__multi_class=ovr, clf__solver=saga, clf__tol=0.0001, pca__n_components=5, score=0.5518827824173625, total=  22.3s\n",
      "[CV] clf__C=0.1, clf__multi_class=ovr, clf__solver=saga, clf__tol=0.0001, pca__n_components=10 \n"
     ]
    },
    {
     "name": "stderr",
     "output_type": "stream",
     "text": [
      "/Users/Swati/anaconda3/lib/python3.6/site-packages/sklearn/linear_model/sag.py:326: ConvergenceWarning: The max_iter was reached which means the coef_ did not converge\n",
      "  \"the coef_ did not converge\", ConvergenceWarning)\n"
     ]
    },
    {
     "name": "stdout",
     "output_type": "stream",
     "text": [
      "[CV]  clf__C=0.1, clf__multi_class=ovr, clf__solver=saga, clf__tol=0.0001, pca__n_components=10, score=0.6839132173565287, total=  25.8s\n",
      "[CV] clf__C=0.1, clf__multi_class=ovr, clf__solver=saga, clf__tol=0.0001, pca__n_components=10 \n"
     ]
    },
    {
     "name": "stderr",
     "output_type": "stream",
     "text": [
      "/Users/Swati/anaconda3/lib/python3.6/site-packages/sklearn/linear_model/sag.py:326: ConvergenceWarning: The max_iter was reached which means the coef_ did not converge\n",
      "  \"the coef_ did not converge\", ConvergenceWarning)\n"
     ]
    },
    {
     "name": "stdout",
     "output_type": "stream",
     "text": [
      "[CV]  clf__C=0.1, clf__multi_class=ovr, clf__solver=saga, clf__tol=0.0001, pca__n_components=10, score=0.6882844142207111, total=  26.0s\n",
      "[CV] clf__C=0.1, clf__multi_class=ovr, clf__solver=saga, clf__tol=0.0001, pca__n_components=10 \n"
     ]
    },
    {
     "name": "stderr",
     "output_type": "stream",
     "text": [
      "/Users/Swati/anaconda3/lib/python3.6/site-packages/sklearn/linear_model/sag.py:326: ConvergenceWarning: The max_iter was reached which means the coef_ did not converge\n",
      "  \"the coef_ did not converge\", ConvergenceWarning)\n"
     ]
    },
    {
     "name": "stdout",
     "output_type": "stream",
     "text": [
      "[CV]  clf__C=0.1, clf__multi_class=ovr, clf__solver=saga, clf__tol=0.0001, pca__n_components=10, score=0.6936040406060909, total=  26.6s\n",
      "[CV] clf__C=0.1, clf__multi_class=ovr, clf__solver=saga, clf__tol=0.0001, pca__n_components=20 \n"
     ]
    },
    {
     "name": "stderr",
     "output_type": "stream",
     "text": [
      "/Users/Swati/anaconda3/lib/python3.6/site-packages/sklearn/linear_model/sag.py:326: ConvergenceWarning: The max_iter was reached which means the coef_ did not converge\n",
      "  \"the coef_ did not converge\", ConvergenceWarning)\n"
     ]
    },
    {
     "name": "stdout",
     "output_type": "stream",
     "text": [
      "[CV]  clf__C=0.1, clf__multi_class=ovr, clf__solver=saga, clf__tol=0.0001, pca__n_components=20, score=0.775994801039792, total=  32.2s\n",
      "[CV] clf__C=0.1, clf__multi_class=ovr, clf__solver=saga, clf__tol=0.0001, pca__n_components=20 \n"
     ]
    },
    {
     "name": "stderr",
     "output_type": "stream",
     "text": [
      "/Users/Swati/anaconda3/lib/python3.6/site-packages/sklearn/linear_model/sag.py:326: ConvergenceWarning: The max_iter was reached which means the coef_ did not converge\n",
      "  \"the coef_ did not converge\", ConvergenceWarning)\n"
     ]
    },
    {
     "name": "stdout",
     "output_type": "stream",
     "text": [
      "[CV]  clf__C=0.1, clf__multi_class=ovr, clf__solver=saga, clf__tol=0.0001, pca__n_components=20, score=0.7773888694434722, total=  32.0s\n",
      "[CV] clf__C=0.1, clf__multi_class=ovr, clf__solver=saga, clf__tol=0.0001, pca__n_components=20 \n"
     ]
    },
    {
     "name": "stderr",
     "output_type": "stream",
     "text": [
      "/Users/Swati/anaconda3/lib/python3.6/site-packages/sklearn/linear_model/sag.py:326: ConvergenceWarning: The max_iter was reached which means the coef_ did not converge\n",
      "  \"the coef_ did not converge\", ConvergenceWarning)\n"
     ]
    },
    {
     "name": "stdout",
     "output_type": "stream",
     "text": [
      "[CV]  clf__C=0.1, clf__multi_class=ovr, clf__solver=saga, clf__tol=0.0001, pca__n_components=20, score=0.7939190878631794, total=  32.6s\n",
      "[CV] clf__C=0.1, clf__multi_class=ovr, clf__solver=saga, clf__tol=0.01, pca__n_components=5 \n",
      "[CV]  clf__C=0.1, clf__multi_class=ovr, clf__solver=saga, clf__tol=0.01, pca__n_components=5, score=0.5423915216956608, total=   3.6s\n",
      "[CV] clf__C=0.1, clf__multi_class=ovr, clf__solver=saga, clf__tol=0.01, pca__n_components=5 \n",
      "[CV]  clf__C=0.1, clf__multi_class=ovr, clf__solver=saga, clf__tol=0.01, pca__n_components=5, score=0.5463773188659433, total=   4.0s\n",
      "[CV] clf__C=0.1, clf__multi_class=ovr, clf__solver=saga, clf__tol=0.01, pca__n_components=5 \n",
      "[CV]  clf__C=0.1, clf__multi_class=ovr, clf__solver=saga, clf__tol=0.01, pca__n_components=5, score=0.5469820473070961, total=   4.0s\n",
      "[CV] clf__C=0.1, clf__multi_class=ovr, clf__solver=saga, clf__tol=0.01, pca__n_components=10 \n",
      "[CV]  clf__C=0.1, clf__multi_class=ovr, clf__solver=saga, clf__tol=0.01, pca__n_components=10, score=0.6770645870825834, total=   4.1s\n",
      "[CV] clf__C=0.1, clf__multi_class=ovr, clf__solver=saga, clf__tol=0.01, pca__n_components=10 \n",
      "[CV]  clf__C=0.1, clf__multi_class=ovr, clf__solver=saga, clf__tol=0.01, pca__n_components=10, score=0.6808840442022102, total=   4.2s\n",
      "[CV] clf__C=0.1, clf__multi_class=ovr, clf__solver=saga, clf__tol=0.01, pca__n_components=10 \n",
      "[CV]  clf__C=0.1, clf__multi_class=ovr, clf__solver=saga, clf__tol=0.01, pca__n_components=10, score=0.6876531479721958, total=   3.9s\n",
      "[CV] clf__C=0.1, clf__multi_class=ovr, clf__solver=saga, clf__tol=0.01, pca__n_components=20 \n",
      "[CV]  clf__C=0.1, clf__multi_class=ovr, clf__solver=saga, clf__tol=0.01, pca__n_components=20, score=0.7676964607078585, total=   5.0s\n",
      "[CV] clf__C=0.1, clf__multi_class=ovr, clf__solver=saga, clf__tol=0.01, pca__n_components=20 \n",
      "[CV]  clf__C=0.1, clf__multi_class=ovr, clf__solver=saga, clf__tol=0.01, pca__n_components=20, score=0.7701885094254712, total=   5.0s\n",
      "[CV] clf__C=0.1, clf__multi_class=ovr, clf__solver=saga, clf__tol=0.01, pca__n_components=20 \n",
      "[CV]  clf__C=0.1, clf__multi_class=ovr, clf__solver=saga, clf__tol=0.01, pca__n_components=20, score=0.7852677901685253, total=   5.0s\n",
      "[CV] clf__C=1, clf__multi_class=ovr, clf__solver=lbfgs, clf__tol=0.0001, pca__n_components=5 \n",
      "[CV]  clf__C=1, clf__multi_class=ovr, clf__solver=lbfgs, clf__tol=0.0001, pca__n_components=5, score=0.6390221955608878, total=   2.7s\n",
      "[CV] clf__C=1, clf__multi_class=ovr, clf__solver=lbfgs, clf__tol=0.0001, pca__n_components=5 \n",
      "[CV]  clf__C=1, clf__multi_class=ovr, clf__solver=lbfgs, clf__tol=0.0001, pca__n_components=5, score=0.6432821641082054, total=   2.8s\n",
      "[CV] clf__C=1, clf__multi_class=ovr, clf__solver=lbfgs, clf__tol=0.0001, pca__n_components=5 \n",
      "[CV]  clf__C=1, clf__multi_class=ovr, clf__solver=lbfgs, clf__tol=0.0001, pca__n_components=5, score=0.6480472070810621, total=   2.7s\n",
      "[CV] clf__C=1, clf__multi_class=ovr, clf__solver=lbfgs, clf__tol=0.0001, pca__n_components=10 \n",
      "[CV]  clf__C=1, clf__multi_class=ovr, clf__solver=lbfgs, clf__tol=0.0001, pca__n_components=10, score=0.7743451309738052, total=   3.3s\n",
      "[CV] clf__C=1, clf__multi_class=ovr, clf__solver=lbfgs, clf__tol=0.0001, pca__n_components=10 \n",
      "[CV]  clf__C=1, clf__multi_class=ovr, clf__solver=lbfgs, clf__tol=0.0001, pca__n_components=10, score=0.7734886744337217, total=   3.5s\n",
      "[CV] clf__C=1, clf__multi_class=ovr, clf__solver=lbfgs, clf__tol=0.0001, pca__n_components=10 \n",
      "[CV]  clf__C=1, clf__multi_class=ovr, clf__solver=lbfgs, clf__tol=0.0001, pca__n_components=10, score=0.7827674151122669, total=   3.5s\n",
      "[CV] clf__C=1, clf__multi_class=ovr, clf__solver=lbfgs, clf__tol=0.0001, pca__n_components=20 \n",
      "[CV]  clf__C=1, clf__multi_class=ovr, clf__solver=lbfgs, clf__tol=0.0001, pca__n_components=20, score=0.8590281943611278, total=   5.1s\n",
      "[CV] clf__C=1, clf__multi_class=ovr, clf__solver=lbfgs, clf__tol=0.0001, pca__n_components=20 \n",
      "[CV]  clf__C=1, clf__multi_class=ovr, clf__solver=lbfgs, clf__tol=0.0001, pca__n_components=20, score=0.855492774638732, total=   4.0s\n",
      "[CV] clf__C=1, clf__multi_class=ovr, clf__solver=lbfgs, clf__tol=0.0001, pca__n_components=20 \n",
      "[CV]  clf__C=1, clf__multi_class=ovr, clf__solver=lbfgs, clf__tol=0.0001, pca__n_components=20, score=0.8636795519327899, total=   5.1s\n",
      "[CV] clf__C=1, clf__multi_class=ovr, clf__solver=lbfgs, clf__tol=0.01, pca__n_components=5 \n",
      "[CV]  clf__C=1, clf__multi_class=ovr, clf__solver=lbfgs, clf__tol=0.01, pca__n_components=5, score=0.6389722055588882, total=   4.3s\n",
      "[CV] clf__C=1, clf__multi_class=ovr, clf__solver=lbfgs, clf__tol=0.01, pca__n_components=5 \n",
      "[CV]  clf__C=1, clf__multi_class=ovr, clf__solver=lbfgs, clf__tol=0.01, pca__n_components=5, score=0.6432321616080804, total=   3.2s\n",
      "[CV] clf__C=1, clf__multi_class=ovr, clf__solver=lbfgs, clf__tol=0.01, pca__n_components=5 \n",
      "[CV]  clf__C=1, clf__multi_class=ovr, clf__solver=lbfgs, clf__tol=0.01, pca__n_components=5, score=0.6480472070810621, total=   3.0s\n",
      "[CV] clf__C=1, clf__multi_class=ovr, clf__solver=lbfgs, clf__tol=0.01, pca__n_components=10 \n",
      "[CV]  clf__C=1, clf__multi_class=ovr, clf__solver=lbfgs, clf__tol=0.01, pca__n_components=10, score=0.7741951609678064, total=   3.2s\n",
      "[CV] clf__C=1, clf__multi_class=ovr, clf__solver=lbfgs, clf__tol=0.01, pca__n_components=10 \n",
      "[CV]  clf__C=1, clf__multi_class=ovr, clf__solver=lbfgs, clf__tol=0.01, pca__n_components=10, score=0.7731386569328467, total=   3.0s\n",
      "[CV] clf__C=1, clf__multi_class=ovr, clf__solver=lbfgs, clf__tol=0.01, pca__n_components=10 \n",
      "[CV]  clf__C=1, clf__multi_class=ovr, clf__solver=lbfgs, clf__tol=0.01, pca__n_components=10, score=0.782817422613392, total=   3.0s\n",
      "[CV] clf__C=1, clf__multi_class=ovr, clf__solver=lbfgs, clf__tol=0.01, pca__n_components=20 \n",
      "[CV]  clf__C=1, clf__multi_class=ovr, clf__solver=lbfgs, clf__tol=0.01, pca__n_components=20, score=0.858628274345131, total=   3.8s\n",
      "[CV] clf__C=1, clf__multi_class=ovr, clf__solver=lbfgs, clf__tol=0.01, pca__n_components=20 \n",
      "[CV]  clf__C=1, clf__multi_class=ovr, clf__solver=lbfgs, clf__tol=0.01, pca__n_components=20, score=0.8553427671383569, total=   3.7s\n",
      "[CV] clf__C=1, clf__multi_class=ovr, clf__solver=lbfgs, clf__tol=0.01, pca__n_components=20 \n",
      "[CV]  clf__C=1, clf__multi_class=ovr, clf__solver=lbfgs, clf__tol=0.01, pca__n_components=20, score=0.8638295744361654, total=   3.7s\n",
      "[CV] clf__C=1, clf__multi_class=ovr, clf__solver=liblinear, clf__tol=0.0001, pca__n_components=5 \n",
      "[CV]  clf__C=1, clf__multi_class=ovr, clf__solver=liblinear, clf__tol=0.0001, pca__n_components=5, score=0.6382223555288942, total=   6.8s\n",
      "[CV] clf__C=1, clf__multi_class=ovr, clf__solver=liblinear, clf__tol=0.0001, pca__n_components=5 \n",
      "[CV]  clf__C=1, clf__multi_class=ovr, clf__solver=liblinear, clf__tol=0.0001, pca__n_components=5, score=0.6433821691084555, total=   7.8s\n",
      "[CV] clf__C=1, clf__multi_class=ovr, clf__solver=liblinear, clf__tol=0.0001, pca__n_components=5 \n",
      "[CV]  clf__C=1, clf__multi_class=ovr, clf__solver=liblinear, clf__tol=0.0001, pca__n_components=5, score=0.647697154573186, total=   6.5s\n",
      "[CV] clf__C=1, clf__multi_class=ovr, clf__solver=liblinear, clf__tol=0.0001, pca__n_components=10 \n",
      "[CV]  clf__C=1, clf__multi_class=ovr, clf__solver=liblinear, clf__tol=0.0001, pca__n_components=10, score=0.7736952609478105, total=  17.8s\n",
      "[CV] clf__C=1, clf__multi_class=ovr, clf__solver=liblinear, clf__tol=0.0001, pca__n_components=10 \n",
      "[CV]  clf__C=1, clf__multi_class=ovr, clf__solver=liblinear, clf__tol=0.0001, pca__n_components=10, score=0.7730386519325966, total=  17.6s\n",
      "[CV] clf__C=1, clf__multi_class=ovr, clf__solver=liblinear, clf__tol=0.0001, pca__n_components=10 \n",
      "[CV]  clf__C=1, clf__multi_class=ovr, clf__solver=liblinear, clf__tol=0.0001, pca__n_components=10, score=0.7815672350852628, total=  17.4s\n",
      "[CV] clf__C=1, clf__multi_class=ovr, clf__solver=liblinear, clf__tol=0.0001, pca__n_components=20 \n",
      "[CV]  clf__C=1, clf__multi_class=ovr, clf__solver=liblinear, clf__tol=0.0001, pca__n_components=20, score=0.8584283143371326, total=  43.0s\n",
      "[CV] clf__C=1, clf__multi_class=ovr, clf__solver=liblinear, clf__tol=0.0001, pca__n_components=20 \n",
      "[CV]  clf__C=1, clf__multi_class=ovr, clf__solver=liblinear, clf__tol=0.0001, pca__n_components=20, score=0.8547427371368569, total=  42.0s\n",
      "[CV] clf__C=1, clf__multi_class=ovr, clf__solver=liblinear, clf__tol=0.0001, pca__n_components=20 \n"
     ]
    },
    {
     "name": "stdout",
     "output_type": "stream",
     "text": [
      "[CV]  clf__C=1, clf__multi_class=ovr, clf__solver=liblinear, clf__tol=0.0001, pca__n_components=20, score=0.8632794919237886, total=  46.0s\n",
      "[CV] clf__C=1, clf__multi_class=ovr, clf__solver=liblinear, clf__tol=0.01, pca__n_components=5 \n",
      "[CV]  clf__C=1, clf__multi_class=ovr, clf__solver=liblinear, clf__tol=0.01, pca__n_components=5, score=0.6075284943011398, total=   5.7s\n",
      "[CV] clf__C=1, clf__multi_class=ovr, clf__solver=liblinear, clf__tol=0.01, pca__n_components=5 \n",
      "[CV]  clf__C=1, clf__multi_class=ovr, clf__solver=liblinear, clf__tol=0.01, pca__n_components=5, score=0.6225311265563278, total=   5.7s\n",
      "[CV] clf__C=1, clf__multi_class=ovr, clf__solver=liblinear, clf__tol=0.01, pca__n_components=5 \n",
      "[CV]  clf__C=1, clf__multi_class=ovr, clf__solver=liblinear, clf__tol=0.01, pca__n_components=5, score=0.6169925488823323, total=   5.6s\n",
      "[CV] clf__C=1, clf__multi_class=ovr, clf__solver=liblinear, clf__tol=0.01, pca__n_components=10 \n",
      "[CV]  clf__C=1, clf__multi_class=ovr, clf__solver=liblinear, clf__tol=0.01, pca__n_components=10, score=0.7570485902819436, total=  14.1s\n",
      "[CV] clf__C=1, clf__multi_class=ovr, clf__solver=liblinear, clf__tol=0.01, pca__n_components=10 \n",
      "[CV]  clf__C=1, clf__multi_class=ovr, clf__solver=liblinear, clf__tol=0.01, pca__n_components=10, score=0.7538376918845943, total=  14.3s\n",
      "[CV] clf__C=1, clf__multi_class=ovr, clf__solver=liblinear, clf__tol=0.01, pca__n_components=10 \n",
      "[CV]  clf__C=1, clf__multi_class=ovr, clf__solver=liblinear, clf__tol=0.01, pca__n_components=10, score=0.7654648197229584, total=  14.7s\n",
      "[CV] clf__C=1, clf__multi_class=ovr, clf__solver=liblinear, clf__tol=0.01, pca__n_components=20 \n",
      "[CV]  clf__C=1, clf__multi_class=ovr, clf__solver=liblinear, clf__tol=0.01, pca__n_components=20, score=0.8394321135772845, total=  35.7s\n",
      "[CV] clf__C=1, clf__multi_class=ovr, clf__solver=liblinear, clf__tol=0.01, pca__n_components=20 \n",
      "[CV]  clf__C=1, clf__multi_class=ovr, clf__solver=liblinear, clf__tol=0.01, pca__n_components=20, score=0.8358417920896045, total=  35.2s\n",
      "[CV] clf__C=1, clf__multi_class=ovr, clf__solver=liblinear, clf__tol=0.01, pca__n_components=20 \n",
      "[CV]  clf__C=1, clf__multi_class=ovr, clf__solver=liblinear, clf__tol=0.01, pca__n_components=20, score=0.8517277591638746, total=  35.6s\n",
      "[CV] clf__C=1, clf__multi_class=ovr, clf__solver=saga, clf__tol=0.0001, pca__n_components=5 \n"
     ]
    },
    {
     "name": "stderr",
     "output_type": "stream",
     "text": [
      "/Users/Swati/anaconda3/lib/python3.6/site-packages/sklearn/linear_model/sag.py:326: ConvergenceWarning: The max_iter was reached which means the coef_ did not converge\n",
      "  \"the coef_ did not converge\", ConvergenceWarning)\n"
     ]
    },
    {
     "name": "stdout",
     "output_type": "stream",
     "text": [
      "[CV]  clf__C=1, clf__multi_class=ovr, clf__solver=saga, clf__tol=0.0001, pca__n_components=5, score=0.5497400519896021, total=  20.3s\n",
      "[CV] clf__C=1, clf__multi_class=ovr, clf__solver=saga, clf__tol=0.0001, pca__n_components=5 \n"
     ]
    },
    {
     "name": "stderr",
     "output_type": "stream",
     "text": [
      "/Users/Swati/anaconda3/lib/python3.6/site-packages/sklearn/linear_model/sag.py:326: ConvergenceWarning: The max_iter was reached which means the coef_ did not converge\n",
      "  \"the coef_ did not converge\", ConvergenceWarning)\n"
     ]
    },
    {
     "name": "stdout",
     "output_type": "stream",
     "text": [
      "[CV]  clf__C=1, clf__multi_class=ovr, clf__solver=saga, clf__tol=0.0001, pca__n_components=5, score=0.5544277213860693, total=  20.3s\n",
      "[CV] clf__C=1, clf__multi_class=ovr, clf__solver=saga, clf__tol=0.0001, pca__n_components=5 \n"
     ]
    },
    {
     "name": "stderr",
     "output_type": "stream",
     "text": [
      "/Users/Swati/anaconda3/lib/python3.6/site-packages/sklearn/linear_model/sag.py:326: ConvergenceWarning: The max_iter was reached which means the coef_ did not converge\n",
      "  \"the coef_ did not converge\", ConvergenceWarning)\n"
     ]
    },
    {
     "name": "stdout",
     "output_type": "stream",
     "text": [
      "[CV]  clf__C=1, clf__multi_class=ovr, clf__solver=saga, clf__tol=0.0001, pca__n_components=5, score=0.5522828424263639, total=  20.5s\n",
      "[CV] clf__C=1, clf__multi_class=ovr, clf__solver=saga, clf__tol=0.0001, pca__n_components=10 \n"
     ]
    },
    {
     "name": "stderr",
     "output_type": "stream",
     "text": [
      "/Users/Swati/anaconda3/lib/python3.6/site-packages/sklearn/linear_model/sag.py:326: ConvergenceWarning: The max_iter was reached which means the coef_ did not converge\n",
      "  \"the coef_ did not converge\", ConvergenceWarning)\n"
     ]
    },
    {
     "name": "stdout",
     "output_type": "stream",
     "text": [
      "[CV]  clf__C=1, clf__multi_class=ovr, clf__solver=saga, clf__tol=0.0001, pca__n_components=10, score=0.6837132573485303, total=  25.0s\n",
      "[CV] clf__C=1, clf__multi_class=ovr, clf__solver=saga, clf__tol=0.0001, pca__n_components=10 \n"
     ]
    },
    {
     "name": "stderr",
     "output_type": "stream",
     "text": [
      "/Users/Swati/anaconda3/lib/python3.6/site-packages/sklearn/linear_model/sag.py:326: ConvergenceWarning: The max_iter was reached which means the coef_ did not converge\n",
      "  \"the coef_ did not converge\", ConvergenceWarning)\n"
     ]
    },
    {
     "name": "stdout",
     "output_type": "stream",
     "text": [
      "[CV]  clf__C=1, clf__multi_class=ovr, clf__solver=saga, clf__tol=0.0001, pca__n_components=10, score=0.687884394219711, total=  26.9s\n",
      "[CV] clf__C=1, clf__multi_class=ovr, clf__solver=saga, clf__tol=0.0001, pca__n_components=10 \n"
     ]
    },
    {
     "name": "stderr",
     "output_type": "stream",
     "text": [
      "/Users/Swati/anaconda3/lib/python3.6/site-packages/sklearn/linear_model/sag.py:326: ConvergenceWarning: The max_iter was reached which means the coef_ did not converge\n",
      "  \"the coef_ did not converge\", ConvergenceWarning)\n"
     ]
    },
    {
     "name": "stdout",
     "output_type": "stream",
     "text": [
      "[CV]  clf__C=1, clf__multi_class=ovr, clf__solver=saga, clf__tol=0.0001, pca__n_components=10, score=0.6937540631094664, total=  26.2s\n",
      "[CV] clf__C=1, clf__multi_class=ovr, clf__solver=saga, clf__tol=0.0001, pca__n_components=20 \n"
     ]
    },
    {
     "name": "stderr",
     "output_type": "stream",
     "text": [
      "/Users/Swati/anaconda3/lib/python3.6/site-packages/sklearn/linear_model/sag.py:326: ConvergenceWarning: The max_iter was reached which means the coef_ did not converge\n",
      "  \"the coef_ did not converge\", ConvergenceWarning)\n"
     ]
    },
    {
     "name": "stdout",
     "output_type": "stream",
     "text": [
      "[CV]  clf__C=1, clf__multi_class=ovr, clf__solver=saga, clf__tol=0.0001, pca__n_components=20, score=0.7758948210357929, total=  36.8s\n",
      "[CV] clf__C=1, clf__multi_class=ovr, clf__solver=saga, clf__tol=0.0001, pca__n_components=20 \n"
     ]
    },
    {
     "name": "stderr",
     "output_type": "stream",
     "text": [
      "/Users/Swati/anaconda3/lib/python3.6/site-packages/sklearn/linear_model/sag.py:326: ConvergenceWarning: The max_iter was reached which means the coef_ did not converge\n",
      "  \"the coef_ did not converge\", ConvergenceWarning)\n"
     ]
    },
    {
     "name": "stdout",
     "output_type": "stream",
     "text": [
      "[CV]  clf__C=1, clf__multi_class=ovr, clf__solver=saga, clf__tol=0.0001, pca__n_components=20, score=0.7768388419420971, total=  32.2s\n",
      "[CV] clf__C=1, clf__multi_class=ovr, clf__solver=saga, clf__tol=0.0001, pca__n_components=20 \n"
     ]
    },
    {
     "name": "stderr",
     "output_type": "stream",
     "text": [
      "/Users/Swati/anaconda3/lib/python3.6/site-packages/sklearn/linear_model/sag.py:326: ConvergenceWarning: The max_iter was reached which means the coef_ did not converge\n",
      "  \"the coef_ did not converge\", ConvergenceWarning)\n"
     ]
    },
    {
     "name": "stdout",
     "output_type": "stream",
     "text": [
      "[CV]  clf__C=1, clf__multi_class=ovr, clf__solver=saga, clf__tol=0.0001, pca__n_components=20, score=0.7942191328699305, total=  34.4s\n",
      "[CV] clf__C=1, clf__multi_class=ovr, clf__solver=saga, clf__tol=0.01, pca__n_components=5 \n",
      "[CV]  clf__C=1, clf__multi_class=ovr, clf__solver=saga, clf__tol=0.01, pca__n_components=5, score=0.5414917016596681, total=   5.1s\n",
      "[CV] clf__C=1, clf__multi_class=ovr, clf__solver=saga, clf__tol=0.01, pca__n_components=5 \n",
      "[CV]  clf__C=1, clf__multi_class=ovr, clf__solver=saga, clf__tol=0.01, pca__n_components=5, score=0.5480774038701935, total=   4.3s\n",
      "[CV] clf__C=1, clf__multi_class=ovr, clf__solver=saga, clf__tol=0.01, pca__n_components=5 \n",
      "[CV]  clf__C=1, clf__multi_class=ovr, clf__solver=saga, clf__tol=0.01, pca__n_components=5, score=0.545781867280092, total=   4.2s\n",
      "[CV] clf__C=1, clf__multi_class=ovr, clf__solver=saga, clf__tol=0.01, pca__n_components=10 \n",
      "[CV]  clf__C=1, clf__multi_class=ovr, clf__solver=saga, clf__tol=0.01, pca__n_components=10, score=0.6773645270945811, total=   4.3s\n",
      "[CV] clf__C=1, clf__multi_class=ovr, clf__solver=saga, clf__tol=0.01, pca__n_components=10 \n",
      "[CV]  clf__C=1, clf__multi_class=ovr, clf__solver=saga, clf__tol=0.01, pca__n_components=10, score=0.6814840742037102, total=   4.1s\n",
      "[CV] clf__C=1, clf__multi_class=ovr, clf__solver=saga, clf__tol=0.01, pca__n_components=10 \n",
      "[CV]  clf__C=1, clf__multi_class=ovr, clf__solver=saga, clf__tol=0.01, pca__n_components=10, score=0.6873531029654448, total=   4.5s\n",
      "[CV] clf__C=1, clf__multi_class=ovr, clf__solver=saga, clf__tol=0.01, pca__n_components=20 \n",
      "[CV]  clf__C=1, clf__multi_class=ovr, clf__solver=saga, clf__tol=0.01, pca__n_components=20, score=0.76749650069986, total=   5.4s\n",
      "[CV] clf__C=1, clf__multi_class=ovr, clf__solver=saga, clf__tol=0.01, pca__n_components=20 \n",
      "[CV]  clf__C=1, clf__multi_class=ovr, clf__solver=saga, clf__tol=0.01, pca__n_components=20, score=0.7694884744237211, total=   5.1s\n",
      "[CV] clf__C=1, clf__multi_class=ovr, clf__solver=saga, clf__tol=0.01, pca__n_components=20 \n",
      "[CV]  clf__C=1, clf__multi_class=ovr, clf__solver=saga, clf__tol=0.01, pca__n_components=20, score=0.7863179476921538, total=   5.3s\n"
     ]
    },
    {
     "name": "stderr",
     "output_type": "stream",
     "text": [
      "[Parallel(n_jobs=1)]: Done 108 out of 108 | elapsed: 25.2min finished\n"
     ]
    },
    {
     "data": {
      "text/plain": [
       "GridSearchCV(cv=3, error_score='raise',\n",
       "       estimator=Pipeline(memory=None,\n",
       "     steps=[('pca', PCA(copy=True, iterated_power='auto', n_components=None, random_state=None,\n",
       "  svd_solver='auto', tol=0.0, whiten=False)), ('clf', LogisticRegression(C=1.0, class_weight=None, dual=False, fit_intercept=True,\n",
       "          intercept_scaling=1, max_iter=100, multi_class='ovr', n_jobs=1,\n",
       "          penalty='l2', random_state=None, solver='liblinear', tol=0.0001,\n",
       "          verbose=0, warm_start=False))]),\n",
       "       fit_params=None, iid=True, n_jobs=1,\n",
       "       param_grid=[{'pca__n_components': [5, 10, 20], 'clf__solver': ['lbfgs', 'liblinear', 'saga'], 'clf__C': [0.1, 1], 'clf__tol': [0.0001, 0.01], 'clf__multi_class': ['ovr']}],\n",
       "       pre_dispatch='2*n_jobs', refit=True, return_train_score='warn',\n",
       "       scoring='accuracy', verbose=5)"
      ]
     },
     "execution_count": 19,
     "metadata": {},
     "output_type": "execute_result"
    }
   ],
   "source": [
    "grid.fit(X_train, y_train)"
   ]
  },
  {
   "cell_type": "code",
   "execution_count": 20,
   "metadata": {},
   "outputs": [
    {
     "data": {
      "text/plain": [
       "{'clf__C': 0.1,\n",
       " 'clf__multi_class': 'ovr',\n",
       " 'clf__solver': 'lbfgs',\n",
       " 'clf__tol': 0.01,\n",
       " 'pca__n_components': 20}"
      ]
     },
     "execution_count": 20,
     "metadata": {},
     "output_type": "execute_result"
    }
   ],
   "source": [
    "grid.best_params_"
   ]
  },
  {
   "cell_type": "code",
   "execution_count": 21,
   "metadata": {},
   "outputs": [
    {
     "name": "stderr",
     "output_type": "stream",
     "text": [
      "/Users/Swati/anaconda3/lib/python3.6/site-packages/sklearn/utils/deprecation.py:122: FutureWarning: You are accessing a training score ('split0_train_score'), which will not be available by default any more in 0.21. If you need training scores, please set return_train_score=True\n",
      "  warnings.warn(*warn_args, **warn_kwargs)\n",
      "/Users/Swati/anaconda3/lib/python3.6/site-packages/sklearn/utils/deprecation.py:122: FutureWarning: You are accessing a training score ('split1_train_score'), which will not be available by default any more in 0.21. If you need training scores, please set return_train_score=True\n",
      "  warnings.warn(*warn_args, **warn_kwargs)\n",
      "/Users/Swati/anaconda3/lib/python3.6/site-packages/sklearn/utils/deprecation.py:122: FutureWarning: You are accessing a training score ('split2_train_score'), which will not be available by default any more in 0.21. If you need training scores, please set return_train_score=True\n",
      "  warnings.warn(*warn_args, **warn_kwargs)\n",
      "/Users/Swati/anaconda3/lib/python3.6/site-packages/sklearn/utils/deprecation.py:122: FutureWarning: You are accessing a training score ('mean_train_score'), which will not be available by default any more in 0.21. If you need training scores, please set return_train_score=True\n",
      "  warnings.warn(*warn_args, **warn_kwargs)\n",
      "/Users/Swati/anaconda3/lib/python3.6/site-packages/sklearn/utils/deprecation.py:122: FutureWarning: You are accessing a training score ('std_train_score'), which will not be available by default any more in 0.21. If you need training scores, please set return_train_score=True\n",
      "  warnings.warn(*warn_args, **warn_kwargs)\n"
     ]
    },
    {
     "data": {
      "text/html": [
       "<div>\n",
       "<style scoped>\n",
       "    .dataframe tbody tr th:only-of-type {\n",
       "        vertical-align: middle;\n",
       "    }\n",
       "\n",
       "    .dataframe tbody tr th {\n",
       "        vertical-align: top;\n",
       "    }\n",
       "\n",
       "    .dataframe thead th {\n",
       "        text-align: right;\n",
       "    }\n",
       "</style>\n",
       "<table border=\"1\" class=\"dataframe\">\n",
       "  <thead>\n",
       "    <tr style=\"text-align: right;\">\n",
       "      <th></th>\n",
       "      <th>mean_fit_time</th>\n",
       "      <th>std_fit_time</th>\n",
       "      <th>mean_score_time</th>\n",
       "      <th>std_score_time</th>\n",
       "      <th>param_clf__C</th>\n",
       "      <th>param_clf__multi_class</th>\n",
       "      <th>param_clf__solver</th>\n",
       "      <th>param_clf__tol</th>\n",
       "      <th>param_pca__n_components</th>\n",
       "      <th>params</th>\n",
       "      <th>...</th>\n",
       "      <th>split1_test_score</th>\n",
       "      <th>split2_test_score</th>\n",
       "      <th>mean_test_score</th>\n",
       "      <th>std_test_score</th>\n",
       "      <th>rank_test_score</th>\n",
       "      <th>split0_train_score</th>\n",
       "      <th>split1_train_score</th>\n",
       "      <th>split2_train_score</th>\n",
       "      <th>mean_train_score</th>\n",
       "      <th>std_train_score</th>\n",
       "    </tr>\n",
       "  </thead>\n",
       "  <tbody>\n",
       "    <tr>\n",
       "      <th>5</th>\n",
       "      <td>3.825523</td>\n",
       "      <td>0.235763</td>\n",
       "      <td>0.122972</td>\n",
       "      <td>0.005828</td>\n",
       "      <td>0.1</td>\n",
       "      <td>ovr</td>\n",
       "      <td>lbfgs</td>\n",
       "      <td>0.01</td>\n",
       "      <td>20</td>\n",
       "      <td>{'clf__C': 0.1, 'clf__multi_class': 'ovr', 'cl...</td>\n",
       "      <td>...</td>\n",
       "      <td>0.855643</td>\n",
       "      <td>0.864030</td>\n",
       "      <td>0.859500</td>\n",
       "      <td>0.003457</td>\n",
       "      <td>1</td>\n",
       "      <td>0.861586</td>\n",
       "      <td>0.861553</td>\n",
       "      <td>0.858836</td>\n",
       "      <td>0.860658</td>\n",
       "      <td>0.001289</td>\n",
       "    </tr>\n",
       "    <tr>\n",
       "      <th>20</th>\n",
       "      <td>4.597471</td>\n",
       "      <td>0.493966</td>\n",
       "      <td>0.137408</td>\n",
       "      <td>0.015498</td>\n",
       "      <td>1</td>\n",
       "      <td>ovr</td>\n",
       "      <td>lbfgs</td>\n",
       "      <td>0.0001</td>\n",
       "      <td>20</td>\n",
       "      <td>{'clf__C': 1, 'clf__multi_class': 'ovr', 'clf_...</td>\n",
       "      <td>...</td>\n",
       "      <td>0.855493</td>\n",
       "      <td>0.863680</td>\n",
       "      <td>0.859400</td>\n",
       "      <td>0.003352</td>\n",
       "      <td>2</td>\n",
       "      <td>0.861686</td>\n",
       "      <td>0.861478</td>\n",
       "      <td>0.858561</td>\n",
       "      <td>0.860575</td>\n",
       "      <td>0.001427</td>\n",
       "    </tr>\n",
       "    <tr>\n",
       "      <th>23</th>\n",
       "      <td>3.613656</td>\n",
       "      <td>0.032447</td>\n",
       "      <td>0.120192</td>\n",
       "      <td>0.001020</td>\n",
       "      <td>1</td>\n",
       "      <td>ovr</td>\n",
       "      <td>lbfgs</td>\n",
       "      <td>0.01</td>\n",
       "      <td>20</td>\n",
       "      <td>{'clf__C': 1, 'clf__multi_class': 'ovr', 'clf_...</td>\n",
       "      <td>...</td>\n",
       "      <td>0.855343</td>\n",
       "      <td>0.863830</td>\n",
       "      <td>0.859267</td>\n",
       "      <td>0.003494</td>\n",
       "      <td>3</td>\n",
       "      <td>0.861711</td>\n",
       "      <td>0.861403</td>\n",
       "      <td>0.858536</td>\n",
       "      <td>0.860550</td>\n",
       "      <td>0.001430</td>\n",
       "    </tr>\n",
       "    <tr>\n",
       "      <th>2</th>\n",
       "      <td>3.754451</td>\n",
       "      <td>0.152698</td>\n",
       "      <td>0.117935</td>\n",
       "      <td>0.000741</td>\n",
       "      <td>0.1</td>\n",
       "      <td>ovr</td>\n",
       "      <td>lbfgs</td>\n",
       "      <td>0.0001</td>\n",
       "      <td>20</td>\n",
       "      <td>{'clf__C': 0.1, 'clf__multi_class': 'ovr', 'cl...</td>\n",
       "      <td>...</td>\n",
       "      <td>0.855393</td>\n",
       "      <td>0.863430</td>\n",
       "      <td>0.859167</td>\n",
       "      <td>0.003299</td>\n",
       "      <td>4</td>\n",
       "      <td>0.861786</td>\n",
       "      <td>0.861578</td>\n",
       "      <td>0.858786</td>\n",
       "      <td>0.860717</td>\n",
       "      <td>0.001368</td>\n",
       "    </tr>\n",
       "    <tr>\n",
       "      <th>26</th>\n",
       "      <td>43.538128</td>\n",
       "      <td>1.676947</td>\n",
       "      <td>0.121336</td>\n",
       "      <td>0.004300</td>\n",
       "      <td>1</td>\n",
       "      <td>ovr</td>\n",
       "      <td>liblinear</td>\n",
       "      <td>0.0001</td>\n",
       "      <td>20</td>\n",
       "      <td>{'clf__C': 1, 'clf__multi_class': 'ovr', 'clf_...</td>\n",
       "      <td>...</td>\n",
       "      <td>0.854743</td>\n",
       "      <td>0.863279</td>\n",
       "      <td>0.858817</td>\n",
       "      <td>0.003496</td>\n",
       "      <td>5</td>\n",
       "      <td>0.861236</td>\n",
       "      <td>0.860903</td>\n",
       "      <td>0.857736</td>\n",
       "      <td>0.859958</td>\n",
       "      <td>0.001578</td>\n",
       "    </tr>\n",
       "  </tbody>\n",
       "</table>\n",
       "<p>5 rows × 21 columns</p>\n",
       "</div>"
      ],
      "text/plain": [
       "    mean_fit_time  std_fit_time  mean_score_time  std_score_time param_clf__C  \\\n",
       "5        3.825523      0.235763         0.122972        0.005828          0.1   \n",
       "20       4.597471      0.493966         0.137408        0.015498            1   \n",
       "23       3.613656      0.032447         0.120192        0.001020            1   \n",
       "2        3.754451      0.152698         0.117935        0.000741          0.1   \n",
       "26      43.538128      1.676947         0.121336        0.004300            1   \n",
       "\n",
       "   param_clf__multi_class param_clf__solver param_clf__tol  \\\n",
       "5                     ovr             lbfgs           0.01   \n",
       "20                    ovr             lbfgs         0.0001   \n",
       "23                    ovr             lbfgs           0.01   \n",
       "2                     ovr             lbfgs         0.0001   \n",
       "26                    ovr         liblinear         0.0001   \n",
       "\n",
       "   param_pca__n_components                                             params  \\\n",
       "5                       20  {'clf__C': 0.1, 'clf__multi_class': 'ovr', 'cl...   \n",
       "20                      20  {'clf__C': 1, 'clf__multi_class': 'ovr', 'clf_...   \n",
       "23                      20  {'clf__C': 1, 'clf__multi_class': 'ovr', 'clf_...   \n",
       "2                       20  {'clf__C': 0.1, 'clf__multi_class': 'ovr', 'cl...   \n",
       "26                      20  {'clf__C': 1, 'clf__multi_class': 'ovr', 'clf_...   \n",
       "\n",
       "         ...         split1_test_score  split2_test_score  mean_test_score  \\\n",
       "5        ...                  0.855643           0.864030         0.859500   \n",
       "20       ...                  0.855493           0.863680         0.859400   \n",
       "23       ...                  0.855343           0.863830         0.859267   \n",
       "2        ...                  0.855393           0.863430         0.859167   \n",
       "26       ...                  0.854743           0.863279         0.858817   \n",
       "\n",
       "    std_test_score  rank_test_score  split0_train_score  split1_train_score  \\\n",
       "5         0.003457                1            0.861586            0.861553   \n",
       "20        0.003352                2            0.861686            0.861478   \n",
       "23        0.003494                3            0.861711            0.861403   \n",
       "2         0.003299                4            0.861786            0.861578   \n",
       "26        0.003496                5            0.861236            0.860903   \n",
       "\n",
       "    split2_train_score  mean_train_score  std_train_score  \n",
       "5             0.858836          0.860658         0.001289  \n",
       "20            0.858561          0.860575         0.001427  \n",
       "23            0.858536          0.860550         0.001430  \n",
       "2             0.858786          0.860717         0.001368  \n",
       "26            0.857736          0.859958         0.001578  \n",
       "\n",
       "[5 rows x 21 columns]"
      ]
     },
     "execution_count": 21,
     "metadata": {},
     "output_type": "execute_result"
    }
   ],
   "source": [
    "results = pd.DataFrame(grid.cv_results_)\n",
    "results.sort_values(by='rank_test_score', inplace=True)\n",
    "results.head(5)"
   ]
  },
  {
   "cell_type": "markdown",
   "metadata": {},
   "source": [
    "### Using best params to get final results"
   ]
  },
  {
   "cell_type": "code",
   "execution_count": 37,
   "metadata": {},
   "outputs": [
    {
     "name": "stdout",
     "output_type": "stream",
     "text": [
      "(60000, 786)\n",
      "(10000, 785)\n"
     ]
    }
   ],
   "source": [
    "df_test = pd.read_csv('mnist_test.csv')\n",
    "df_train = df_orig\n",
    "print(df_train.shape)\n",
    "print(df_test.shape)"
   ]
  },
  {
   "cell_type": "code",
   "execution_count": 38,
   "metadata": {},
   "outputs": [
    {
     "name": "stdout",
     "output_type": "stream",
     "text": [
      "Index(['pixel0', 'pixel1', 'pixel2', 'pixel3', 'pixel4', 'pixel5', 'pixel6',\n",
      "       'pixel7', 'pixel8', 'pixel9', 'pixel10', 'pixel11', 'pixel16',\n",
      "       'pixel17', 'pixel18', 'pixel19', 'pixel20', 'pixel21', 'pixel22',\n",
      "       'pixel23', 'pixel24', 'pixel25', 'pixel26', 'pixel27', 'pixel28',\n",
      "       'pixel29', 'pixel30', 'pixel31', 'pixel52', 'pixel53', 'pixel54',\n",
      "       'pixel55', 'pixel56', 'pixel57', 'pixel82', 'pixel83', 'pixel84',\n",
      "       'pixel85', 'pixel111', 'pixel112', 'pixel140', 'pixel141', 'pixel168',\n",
      "       'pixel476', 'pixel560', 'pixel644', 'pixel645', 'pixel671', 'pixel672',\n",
      "       'pixel673', 'pixel699', 'pixel700', 'pixel701', 'pixel727', 'pixel728',\n",
      "       'pixel729', 'pixel730', 'pixel754', 'pixel755', 'pixel756', 'pixel757',\n",
      "       'pixel758', 'pixel759', 'pixel780', 'pixel781', 'pixel782', 'pixel783'],\n",
      "      dtype='object')\n"
     ]
    }
   ],
   "source": [
    "drop_col = df_train.columns[(df_train == 0).all()]\n",
    "print(drop_col)"
   ]
  },
  {
   "cell_type": "code",
   "execution_count": 39,
   "metadata": {},
   "outputs": [
    {
     "name": "stdout",
     "output_type": "stream",
     "text": [
      "(60000, 719)\n"
     ]
    }
   ],
   "source": [
    "df_train = df_train.drop(drop_col, axis=1)\n",
    "print(df.shape)"
   ]
  },
  {
   "cell_type": "code",
   "execution_count": 40,
   "metadata": {},
   "outputs": [
    {
     "name": "stdout",
     "output_type": "stream",
     "text": [
      "(10000, 718)\n"
     ]
    }
   ],
   "source": [
    "df_test=df_test.drop(drop_col, axis=1)\n",
    "print(df_test.shape)"
   ]
  },
  {
   "cell_type": "code",
   "execution_count": 42,
   "metadata": {},
   "outputs": [],
   "source": [
    "x_tr = df_train.drop(['Id', 'Category'], axis=1)\n",
    "y_tr = df_train['Category']"
   ]
  },
  {
   "cell_type": "code",
   "execution_count": 43,
   "metadata": {},
   "outputs": [
    {
     "data": {
      "text/plain": [
       "array([[ 123.93258865, -312.67426199,  -24.514052  , ...,  308.84652501,\n",
       "         277.48374522,  165.17193004],\n",
       "       [1011.71837587, -294.857038  ,  596.33956135, ...,   40.2223858 ,\n",
       "          51.88051463, -101.00211549],\n",
       "       [ -51.84960807,  392.17315278, -188.5097499 , ..., -121.28226922,\n",
       "         -10.23393119, -435.10942482],\n",
       "       ...,\n",
       "       [-178.05344964,  160.07821197, -257.61308111, ...,  -38.1161328 ,\n",
       "         103.4258833 ,  236.79376043],\n",
       "       [ 130.60607206,   -5.59193595,  513.85867394, ..., -143.58985721,\n",
       "         -76.78571976,  194.29466655],\n",
       "       [-173.43595243,  -24.71880224,  556.01889478, ...,  270.34671324,\n",
       "          96.92665424, -209.48191966]])"
      ]
     },
     "execution_count": 43,
     "metadata": {},
     "output_type": "execute_result"
    }
   ],
   "source": [
    "pca = PCA(n_components=20)\n",
    "pca.fit(x_tr)\n",
    "pca.transform(x_tr)"
   ]
  },
  {
   "cell_type": "code",
   "execution_count": 44,
   "metadata": {},
   "outputs": [],
   "source": [
    "clf = LogisticRegression(solver='lbfgs', max_iter=200, multi_class='ovr', tol=0.01, C=0.1)"
   ]
  },
  {
   "cell_type": "code",
   "execution_count": 45,
   "metadata": {},
   "outputs": [
    {
     "data": {
      "text/plain": [
       "LogisticRegression(C=0.1, class_weight=None, dual=False, fit_intercept=True,\n",
       "          intercept_scaling=1, max_iter=200, multi_class='ovr', n_jobs=1,\n",
       "          penalty='l2', random_state=None, solver='lbfgs', tol=0.01,\n",
       "          verbose=0, warm_start=False)"
      ]
     },
     "execution_count": 45,
     "metadata": {},
     "output_type": "execute_result"
    }
   ],
   "source": [
    "clf.fit(x_tr, y_tr)"
   ]
  },
  {
   "cell_type": "code",
   "execution_count": 46,
   "metadata": {},
   "outputs": [],
   "source": [
    "x_test = df_test.drop(['Id'], axis=1)\n",
    "pca.transform(x_test)\n",
    "y_pred = clf.predict(x_test)"
   ]
  },
  {
   "cell_type": "code",
   "execution_count": 47,
   "metadata": {},
   "outputs": [],
   "source": [
    "df_test['Category']=y_pred"
   ]
  },
  {
   "cell_type": "code",
   "execution_count": 48,
   "metadata": {},
   "outputs": [
    {
     "data": {
      "text/html": [
       "<div>\n",
       "<style scoped>\n",
       "    .dataframe tbody tr th:only-of-type {\n",
       "        vertical-align: middle;\n",
       "    }\n",
       "\n",
       "    .dataframe tbody tr th {\n",
       "        vertical-align: top;\n",
       "    }\n",
       "\n",
       "    .dataframe thead th {\n",
       "        text-align: right;\n",
       "    }\n",
       "</style>\n",
       "<table border=\"1\" class=\"dataframe\">\n",
       "  <thead>\n",
       "    <tr style=\"text-align: right;\">\n",
       "      <th></th>\n",
       "      <th>Id</th>\n",
       "      <th>pixel12</th>\n",
       "      <th>pixel13</th>\n",
       "      <th>pixel14</th>\n",
       "      <th>pixel15</th>\n",
       "      <th>pixel32</th>\n",
       "      <th>pixel33</th>\n",
       "      <th>pixel34</th>\n",
       "      <th>pixel35</th>\n",
       "      <th>pixel36</th>\n",
       "      <th>...</th>\n",
       "      <th>pixel771</th>\n",
       "      <th>pixel772</th>\n",
       "      <th>pixel773</th>\n",
       "      <th>pixel774</th>\n",
       "      <th>pixel775</th>\n",
       "      <th>pixel776</th>\n",
       "      <th>pixel777</th>\n",
       "      <th>pixel778</th>\n",
       "      <th>pixel779</th>\n",
       "      <th>Category</th>\n",
       "    </tr>\n",
       "  </thead>\n",
       "  <tbody>\n",
       "    <tr>\n",
       "      <th>0</th>\n",
       "      <td>1</td>\n",
       "      <td>0</td>\n",
       "      <td>0</td>\n",
       "      <td>0</td>\n",
       "      <td>0</td>\n",
       "      <td>0</td>\n",
       "      <td>0</td>\n",
       "      <td>0</td>\n",
       "      <td>0</td>\n",
       "      <td>0</td>\n",
       "      <td>...</td>\n",
       "      <td>0</td>\n",
       "      <td>0</td>\n",
       "      <td>0</td>\n",
       "      <td>0</td>\n",
       "      <td>0</td>\n",
       "      <td>0</td>\n",
       "      <td>0</td>\n",
       "      <td>0</td>\n",
       "      <td>0</td>\n",
       "      <td>7</td>\n",
       "    </tr>\n",
       "    <tr>\n",
       "      <th>1</th>\n",
       "      <td>2</td>\n",
       "      <td>0</td>\n",
       "      <td>0</td>\n",
       "      <td>0</td>\n",
       "      <td>0</td>\n",
       "      <td>0</td>\n",
       "      <td>0</td>\n",
       "      <td>0</td>\n",
       "      <td>0</td>\n",
       "      <td>0</td>\n",
       "      <td>...</td>\n",
       "      <td>0</td>\n",
       "      <td>0</td>\n",
       "      <td>0</td>\n",
       "      <td>0</td>\n",
       "      <td>0</td>\n",
       "      <td>0</td>\n",
       "      <td>0</td>\n",
       "      <td>0</td>\n",
       "      <td>0</td>\n",
       "      <td>2</td>\n",
       "    </tr>\n",
       "    <tr>\n",
       "      <th>2</th>\n",
       "      <td>3</td>\n",
       "      <td>0</td>\n",
       "      <td>0</td>\n",
       "      <td>0</td>\n",
       "      <td>0</td>\n",
       "      <td>0</td>\n",
       "      <td>0</td>\n",
       "      <td>0</td>\n",
       "      <td>0</td>\n",
       "      <td>0</td>\n",
       "      <td>...</td>\n",
       "      <td>0</td>\n",
       "      <td>0</td>\n",
       "      <td>0</td>\n",
       "      <td>0</td>\n",
       "      <td>0</td>\n",
       "      <td>0</td>\n",
       "      <td>0</td>\n",
       "      <td>0</td>\n",
       "      <td>0</td>\n",
       "      <td>1</td>\n",
       "    </tr>\n",
       "    <tr>\n",
       "      <th>3</th>\n",
       "      <td>4</td>\n",
       "      <td>0</td>\n",
       "      <td>0</td>\n",
       "      <td>0</td>\n",
       "      <td>0</td>\n",
       "      <td>0</td>\n",
       "      <td>0</td>\n",
       "      <td>0</td>\n",
       "      <td>0</td>\n",
       "      <td>0</td>\n",
       "      <td>...</td>\n",
       "      <td>0</td>\n",
       "      <td>0</td>\n",
       "      <td>0</td>\n",
       "      <td>0</td>\n",
       "      <td>0</td>\n",
       "      <td>0</td>\n",
       "      <td>0</td>\n",
       "      <td>0</td>\n",
       "      <td>0</td>\n",
       "      <td>0</td>\n",
       "    </tr>\n",
       "    <tr>\n",
       "      <th>4</th>\n",
       "      <td>5</td>\n",
       "      <td>0</td>\n",
       "      <td>0</td>\n",
       "      <td>0</td>\n",
       "      <td>0</td>\n",
       "      <td>0</td>\n",
       "      <td>0</td>\n",
       "      <td>0</td>\n",
       "      <td>0</td>\n",
       "      <td>0</td>\n",
       "      <td>...</td>\n",
       "      <td>0</td>\n",
       "      <td>0</td>\n",
       "      <td>0</td>\n",
       "      <td>0</td>\n",
       "      <td>0</td>\n",
       "      <td>0</td>\n",
       "      <td>0</td>\n",
       "      <td>0</td>\n",
       "      <td>0</td>\n",
       "      <td>4</td>\n",
       "    </tr>\n",
       "  </tbody>\n",
       "</table>\n",
       "<p>5 rows × 719 columns</p>\n",
       "</div>"
      ],
      "text/plain": [
       "   Id  pixel12  pixel13  pixel14  pixel15  pixel32  pixel33  pixel34  pixel35  \\\n",
       "0   1        0        0        0        0        0        0        0        0   \n",
       "1   2        0        0        0        0        0        0        0        0   \n",
       "2   3        0        0        0        0        0        0        0        0   \n",
       "3   4        0        0        0        0        0        0        0        0   \n",
       "4   5        0        0        0        0        0        0        0        0   \n",
       "\n",
       "   pixel36    ...     pixel771  pixel772  pixel773  pixel774  pixel775  \\\n",
       "0        0    ...            0         0         0         0         0   \n",
       "1        0    ...            0         0         0         0         0   \n",
       "2        0    ...            0         0         0         0         0   \n",
       "3        0    ...            0         0         0         0         0   \n",
       "4        0    ...            0         0         0         0         0   \n",
       "\n",
       "   pixel776  pixel777  pixel778  pixel779  Category  \n",
       "0         0         0         0         0         7  \n",
       "1         0         0         0         0         2  \n",
       "2         0         0         0         0         1  \n",
       "3         0         0         0         0         0  \n",
       "4         0         0         0         0         4  \n",
       "\n",
       "[5 rows x 719 columns]"
      ]
     },
     "execution_count": 48,
     "metadata": {},
     "output_type": "execute_result"
    }
   ],
   "source": [
    "df_test.head(5)"
   ]
  },
  {
   "cell_type": "code",
   "execution_count": 49,
   "metadata": {},
   "outputs": [],
   "source": [
    "df_final = df_test[['Id','Category']]\n",
    "df_final.to_csv('2challenge_logreg.csv', index=False)"
   ]
  },
  {
   "cell_type": "code",
   "execution_count": 50,
   "metadata": {},
   "outputs": [
    {
     "data": {
      "text/html": [
       "<div>\n",
       "<style scoped>\n",
       "    .dataframe tbody tr th:only-of-type {\n",
       "        vertical-align: middle;\n",
       "    }\n",
       "\n",
       "    .dataframe tbody tr th {\n",
       "        vertical-align: top;\n",
       "    }\n",
       "\n",
       "    .dataframe thead th {\n",
       "        text-align: right;\n",
       "    }\n",
       "</style>\n",
       "<table border=\"1\" class=\"dataframe\">\n",
       "  <thead>\n",
       "    <tr style=\"text-align: right;\">\n",
       "      <th></th>\n",
       "      <th>Id</th>\n",
       "      <th>Category</th>\n",
       "    </tr>\n",
       "  </thead>\n",
       "  <tbody>\n",
       "    <tr>\n",
       "      <th>0</th>\n",
       "      <td>1</td>\n",
       "      <td>7</td>\n",
       "    </tr>\n",
       "    <tr>\n",
       "      <th>1</th>\n",
       "      <td>2</td>\n",
       "      <td>2</td>\n",
       "    </tr>\n",
       "    <tr>\n",
       "      <th>2</th>\n",
       "      <td>3</td>\n",
       "      <td>1</td>\n",
       "    </tr>\n",
       "    <tr>\n",
       "      <th>3</th>\n",
       "      <td>4</td>\n",
       "      <td>0</td>\n",
       "    </tr>\n",
       "    <tr>\n",
       "      <th>4</th>\n",
       "      <td>5</td>\n",
       "      <td>4</td>\n",
       "    </tr>\n",
       "  </tbody>\n",
       "</table>\n",
       "</div>"
      ],
      "text/plain": [
       "   Id  Category\n",
       "0   1         7\n",
       "1   2         2\n",
       "2   3         1\n",
       "3   4         0\n",
       "4   5         4"
      ]
     },
     "execution_count": 50,
     "metadata": {},
     "output_type": "execute_result"
    }
   ],
   "source": [
    "df_final.head(5)"
   ]
  },
  {
   "cell_type": "code",
   "execution_count": null,
   "metadata": {},
   "outputs": [],
   "source": []
  }
 ],
 "metadata": {
  "kernelspec": {
   "display_name": "Python 3",
   "language": "python",
   "name": "python3"
  },
  "language_info": {
   "codemirror_mode": {
    "name": "ipython",
    "version": 3
   },
   "file_extension": ".py",
   "mimetype": "text/x-python",
   "name": "python",
   "nbconvert_exporter": "python",
   "pygments_lexer": "ipython3",
   "version": "3.6.5"
  }
 },
 "nbformat": 4,
 "nbformat_minor": 2
}
